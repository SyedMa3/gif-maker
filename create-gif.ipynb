{
 "cells": [
  {
   "cell_type": "code",
   "execution_count": 59,
   "metadata": {},
   "outputs": [],
   "source": [
    "import whisper\n",
    "import moviepy.editor as mp\n",
    "from moviepy.video.tools.subtitles import SubtitlesClip\n",
    "import spacy\n",
    "import nltk\n",
    "from nltk.sentiment import SentimentIntensityAnalyzer\n",
    "import re"
   ]
  },
  {
   "cell_type": "code",
   "execution_count": 60,
   "metadata": {},
   "outputs": [],
   "source": [
    "def compute_lps_array(pattern):\n",
    "    lps = [0] * len(pattern)\n",
    "    length = 0\n",
    "    i = 1\n",
    "    while i < len(pattern):\n",
    "        if pattern[i] == pattern[length]:\n",
    "            length += 1\n",
    "            lps[i] = length\n",
    "            i += 1\n",
    "        else:\n",
    "            if length != 0:\n",
    "                length = lps[length - 1]\n",
    "            else:\n",
    "                lps[i] = 0\n",
    "                i += 1\n",
    "    return lps\n",
    "\n",
    "def kmp_search(sentence, words_list):\n",
    "    # Preprocess sentence into list of words\n",
    "    pattern = sentence.lower().split()\n",
    "    # print(words_list)\n",
    "    text = [word[\"word\"].lower() for word in words_list]\n",
    "\n",
    "    # Compute LPS array\n",
    "    lps = compute_lps_array(pattern)\n",
    "\n",
    "    i = 0  # index for text\n",
    "    j = 0  # index for pattern\n",
    "\n",
    "    while i < len(text):\n",
    "        if pattern[j] == text[i]:\n",
    "            i += 1\n",
    "            j += 1\n",
    "\n",
    "        if j == len(pattern):\n",
    "            # print(f\"Found pattern at index {i - j}\")\n",
    "            j = lps[j - 1]\n",
    "            return i - len(pattern)  # Return the starting index of the match\n",
    "        elif i < len(text) and pattern[j] != text[i]:\n",
    "            if j != 0:\n",
    "                j = lps[j - 1]\n",
    "            else:\n",
    "                i += 1\n",
    "\n",
    "    return -1  # If no match is found"
   ]
  },
  {
   "cell_type": "code",
   "execution_count": 61,
   "metadata": {},
   "outputs": [],
   "source": [
    "def match_sentences_with_words(sentences, words):\n",
    "    \"\"\"Find sentences in the list of words using KMP algorithm.\"\"\"\n",
    "    results = {}\n",
    "    for sentence in sentences:\n",
    "        # sentence_words = sentence.split()\n",
    "        matches = kmp_search(sentence.strip(), words)\n",
    "        results[sentence.strip()] = matches\n",
    "    return results"
   ]
  },
  {
   "cell_type": "code",
   "execution_count": 62,
   "metadata": {},
   "outputs": [],
   "source": [
    "def transcribe_video(video_path):\n",
    "    model = whisper.load_model(\"small.en\")\n",
    "    result = model.transcribe(video_path, word_timestamps=True)\n",
    "    return result"
   ]
  },
  {
   "cell_type": "code",
   "execution_count": 63,
   "metadata": {},
   "outputs": [],
   "source": [
    "def is_gif_worthy(text, nlp, sia):\n",
    "    # Parse the text\n",
    "    # print(text)\n",
    "    doc = nlp(text)\n",
    "    \n",
    "    # Check for named entities (people, places, organizations)\n",
    "    has_named_entity = any(ent.label_ in ['PERSON', 'ORG', 'GPE'] for ent in doc.ents)\n",
    "    \n",
    "    # Check for action verbs\n",
    "    has_action_verb = any(token.pos_ == 'VERB' and token.dep_ == 'ROOT' for token in doc)\n",
    "    \n",
    "    # Analyze sentiment\n",
    "    sentiment_scores = sia.polarity_scores(text)\n",
    "    is_emotional = abs(sentiment_scores['compound']) > 0.2\n",
    "    \n",
    "    # Check for questions or exclamations\n",
    "    is_question_or_exclamation = any(sent.text.strip().endswith(('?', '!')) for sent in doc.sents)\n",
    "    \n",
    "    # print((has_named_entity or has_action_verb or is_emotional or is_question_or_exclamation) and len(text.split()) <= 6)\n",
    "    # Combine criteria\n",
    "    return (has_named_entity or has_action_verb or is_emotional or is_question_or_exclamation) and len(text.split()) <= 6\n"
   ]
  },
  {
   "cell_type": "code",
   "execution_count": 70,
   "metadata": {},
   "outputs": [],
   "source": [
    "def select_suitable_dialogues(segments, nlp, sia):\n",
    "    suitable_sentences = []\n",
    "    for segment in segments:\n",
    "        if is_gif_worthy(segment, nlp, sia):\n",
    "            suitable_sentences.append(segment)\n",
    "    return suitable_sentences\n",
    "\n",
    "def create_gif_with_caption(video_path, start_time, end_time, text, output_path):\n",
    "    video = mp.VideoFileClip(video_path).subclip(start_time, end_time)\n",
    "    \n",
    "    # Create caption\n",
    "    txt_clip = mp.TextClip(text, fontsize=128, color='white', font='Arial', stroke_color='black', stroke_width=2)\n",
    "    txt_clip = txt_clip.set_pos('bottom').set_duration(video.duration)\n",
    "    \n",
    "    # Combine video and caption\n",
    "    final_clip = mp.CompositeVideoClip([video, txt_clip])\n",
    "    \n",
    "    # Write GIF\n",
    "    final_clip.write_gif(output_path)"
   ]
  },
  {
   "cell_type": "code",
   "execution_count": 65,
   "metadata": {},
   "outputs": [],
   "source": [
    "nlp = spacy.load(\"en_core_web_sm\")\n",
    "video_path = 'long-vid.mp4'\n",
    "sia = SentimentIntensityAnalyzer()\n",
    "\n",
    "# Step 1: Transcribe the video\n",
    "result = transcribe_video(video_path)\n"
   ]
  },
  {
   "cell_type": "code",
   "execution_count": 66,
   "metadata": {},
   "outputs": [],
   "source": [
    "sentences = result[\"text\"].split(\".\")\n",
    "suitable_sentences = select_suitable_dialogues(sentences, nlp, sia)\n",
    "\n",
    "words = []\n",
    "for segment in result[\"segments\"]:\n",
    "    for word in segment['words']:\n",
    "        if(word['word'][-1] == '.'):\n",
    "            word['word'] = word['word'][:-1]\n",
    "        words.append({'word': word['word'].strip(), 'start': word['start'], 'end': word['end']})"
   ]
  },
  {
   "cell_type": "code",
   "execution_count": 31,
   "metadata": {},
   "outputs": [
    {
     "name": "stdout",
     "output_type": "stream",
     "text": [
      "[{'word': \"What's\", 'start': 0.7800000000000031, 'end': 1.26}, {'word': 'up?', 'start': 1.26, 'end': 1.48}, {'word': \"I'm\", 'start': 4.0, 'end': 4.48}, {'word': 'looking', 'start': 4.48, 'end': 4.62}, {'word': 'to', 'start': 4.62, 'end': 4.82}, {'word': 'hire', 'start': 4.82, 'end': 4.9}, {'word': 'someone', 'start': 4.9, 'end': 5.34}, {'word': 'so', 'start': 5.34, 'end': 6.16}, {'word': \"I've\", 'start': 6.16, 'end': 7.84}, {'word': 'got', 'start': 7.84, 'end': 7.96}, {'word': 'a', 'start': 7.96, 'end': 8.14}, {'word': 'cool', 'start': 8.14, 'end': 8.44}, {'word': 'gifty', 'start': 8.44, 'end': 8.86}, {'word': 'ranking', 'start': 8.86, 'end': 9.14}, {'word': 'system', 'start': 9.14, 'end': 9.78}, {'word': 'This', 'start': 10.68, 'end': 10.8}, {'word': 'gif', 'start': 10.8, 'end': 11.0}, {'word': 'of', 'start': 11.0, 'end': 11.2}, {'word': 'me', 'start': 11.2, 'end': 11.38}, {'word': 'has', 'start': 11.38, 'end': 11.62}, {'word': 'seven', 'start': 11.62, 'end': 11.88}, {'word': 'million', 'start': 11.88, 'end': 12.14}, {'word': 'views', 'start': 12.14, 'end': 12.62}, {'word': 'saying', 'start': 12.62, 'end': 13.18}, {'word': 'welcome', 'start': 13.18, 'end': 13.4}, {'word': 'to', 'start': 13.4, 'end': 13.7}, {'word': 'India', 'start': 13.7, 'end': 14.04}, {'word': 'and', 'start': 14.04, 'end': 15.44}, {'word': 'I', 'start': 15.44, 'end': 15.58}, {'word': 'want', 'start': 15.58, 'end': 15.68}, {'word': 'a', 'start': 15.68, 'end': 15.82}, {'word': 'lot', 'start': 15.82, 'end': 15.96}, {'word': 'more', 'start': 15.96, 'end': 16.14}, {'word': 'gifs', 'start': 16.14, 'end': 16.42}, {'word': 'of', 'start': 16.42, 'end': 16.52}, {'word': 'myself', 'start': 16.52, 'end': 16.88}, {'word': 'I', 'start': 17.82, 'end': 18.06}, {'word': 'want', 'start': 18.06, 'end': 18.14}, {'word': 'to', 'start': 18.14, 'end': 18.24}, {'word': 'be', 'start': 18.24, 'end': 18.34}, {'word': 'able', 'start': 18.34, 'end': 18.48}, {'word': 'to', 'start': 18.48, 'end': 18.6}, {'word': 'take', 'start': 18.6, 'end': 18.78}, {'word': 'all', 'start': 18.78, 'end': 19.1}, {'word': 'of', 'start': 19.1, 'end': 19.28}, {'word': 'my', 'start': 19.28, 'end': 19.42}, {'word': 'YouTube', 'start': 19.42, 'end': 19.68}, {'word': 'videos', 'start': 19.68, 'end': 20.08}, {'word': 'in', 'start': 20.08, 'end': 29.64}, {'word': 'every', 'start': 29.64, 'end': 29.98}, {'word': 'video', 'start': 29.98, 'end': 30.5}, {'word': 'Basically', 'start': 30.5, 'end': 30.5}, {'word': 'it', 'start': 30.5, 'end': 30.76}, {'word': 'should', 'start': 30.76, 'end': 31.06}, {'word': 'go', 'start': 31.06, 'end': 33.6}, {'word': 'through', 'start': 33.6, 'end': 34.02}, {'word': 'Imagine', 'start': 34.44, 'end': 34.46}, {'word': 'you', 'start': 34.46, 'end': 35.0}, {'word': 'took', 'start': 35.0, 'end': 35.18}, {'word': 'this', 'start': 35.18, 'end': 35.42}, {'word': 'video,', 'start': 35.42, 'end': 35.72}, {'word': 'this', 'start': 35.84, 'end': 35.88}, {'word': 'would', 'start': 35.88, 'end': 36.04}, {'word': 'be', 'start': 36.04, 'end': 36.18}, {'word': 'an', 'start': 36.18, 'end': 36.3}, {'word': 'example', 'start': 36.3, 'end': 36.62}, {'word': 'one', 'start': 36.62, 'end': 37.16}, {'word': 'It', 'start': 40.58, 'end': 41.18}, {'word': 'would', 'start': 41.18, 'end': 41.34}, {'word': 'take', 'start': 41.34, 'end': 41.54}, {'word': 'the', 'start': 41.54, 'end': 41.72}, {'word': 'transcription', 'start': 41.72, 'end': 42.16}, {'word': 'and', 'start': 42.16, 'end': 42.54}, {'word': 'it', 'start': 42.54, 'end': 42.58}, {'word': 'would', 'start': 42.58, 'end': 42.72}, {'word': 'auto', 'start': 42.72, 'end': 42.96}, {'word': 'caption', 'start': 42.96, 'end': 43.18}, {'word': 'it', 'start': 43.18, 'end': 43.52}, {'word': 'and', 'start': 43.52, 'end': 43.66}, {'word': 'then', 'start': 43.66, 'end': 43.76}, {'word': 'it', 'start': 43.76, 'end': 43.9}, {'word': 'would', 'start': 43.9, 'end': 44.04}, {'word': 'segment', 'start': 44.04, 'end': 44.44}, {'word': 'it', 'start': 44.44, 'end': 44.82}, {'word': 'out', 'start': 44.82, 'end': 45.12}, {'word': 'just', 'start': 45.12, 'end': 45.7}, {'word': 'by', 'start': 45.7, 'end': 45.92}, {'word': 'uploading', 'start': 45.92, 'end': 46.28}, {'word': 'one', 'start': 46.28, 'end': 46.56}, {'word': 'main', 'start': 46.56, 'end': 46.8}, {'word': 'video', 'start': 46.8, 'end': 47.12}, {'word': 'So', 'start': 47.48, 'end': 47.5}, {'word': 'in', 'start': 47.5, 'end': 48.96}, {'word': 'order', 'start': 48.96, 'end': 49.16}, {'word': 'to', 'start': 49.16, 'end': 49.38}, {'word': 'make', 'start': 49.38, 'end': 49.6}, {'word': 'that,', 'start': 49.6, 'end': 50.24}, {'word': 'the', 'start': 50.8, 'end': 51.46}, {'word': 'test', 'start': 51.46, 'end': 51.86}, {'word': 'directly', 'start': 51.86, 'end': 52.38}, {'word': 'on', 'start': 52.38, 'end': 52.7}, {'word': 'this', 'start': 52.7, 'end': 52.82}, {'word': 'video,', 'start': 52.82, 'end': 53.1}, {'word': \"I'm\", 'start': 53.22, 'end': 53.28}, {'word': 'going', 'start': 53.28, 'end': 53.34}, {'word': 'to', 'start': 53.34, 'end': 53.44}, {'word': 'make', 'start': 53.44, 'end': 53.58}, {'word': 'some', 'start': 53.58, 'end': 53.78}, {'word': 'gifs', 'start': 53.78, 'end': 55.08}, {'word': 'I', 'start': 55.48, 'end': 55.9}, {'word': 'love', 'start': 55.9, 'end': 56.16}, {'word': 'you', 'start': 56.16, 'end': 57.36}, {'word': 'Grand', 'start': 61.96, 'end': 62.7}, {'word': 'rising', 'start': 62.7, 'end': 63.28}, {'word': 'Good', 'start': 65.16, 'end': 65.9}, {'word': 'vibes', 'start': 65.9, 'end': 66.24}, {'word': 'to', 'start': 66.24, 'end': 66.34}, {'word': 'all', 'start': 66.34, 'end': 66.74}, {'word': 'Stay', 'start': 68.28, 'end': 69.16}, {'word': 'based', 'start': 69.16, 'end': 69.72}, {'word': 'Thumbs', 'start': 72.28, 'end': 72.42}, {'word': 'up', 'start': 72.42, 'end': 72.7}, {'word': 'Thumbs', 'start': 74.46, 'end': 74.76}, {'word': 'down', 'start': 74.76, 'end': 75.18}, {'word': \"I'm\", 'start': 78.52, 'end': 78.92}, {'word': 'okay', 'start': 78.92, 'end': 79.3}, {'word': 'Happy', 'start': 85.32, 'end': 86.2}, {'word': 'Monday', 'start': 86.2, 'end': 86.64}, {'word': 'Happy', 'start': 88.12, 'end': 88.46}, {'word': 'Tuesday', 'start': 88.46, 'end': 88.88}, {'word': 'Happy', 'start': 90.0, 'end': 90.38}, {'word': 'Wednesday', 'start': 90.38, 'end': 90.78}, {'word': 'Happy', 'start': 90.78, 'end': 92.26}, {'word': 'Thursday', 'start': 92.26, 'end': 92.82}, {'word': 'Happy', 'start': 93.94, 'end': 94.44}, {'word': 'Friday', 'start': 94.44, 'end': 94.9}, {'word': 'And', 'start': 96.4, 'end': 96.6}, {'word': 'a', 'start': 96.6, 'end': 96.74}, {'word': 'good', 'start': 96.74, 'end': 97.12}, {'word': 'New', 'start': 97.12, 'end': 97.84}, {'word': \"Year's\", 'start': 97.84, 'end': 98.26}, {'word': 'Eve', 'start': 98.26, 'end': 98.54}, {'word': 'to', 'start': 98.54, 'end': 98.84}, {'word': 'everyone', 'start': 98.84, 'end': 99.3}, {'word': 'And', 'start': 101.0, 'end': 101.1}, {'word': 'so', 'start': 101.1, 'end': 101.26}, {'word': 'basically', 'start': 101.26, 'end': 101.9}, {'word': 'it', 'start': 101.9, 'end': 103.5}, {'word': 'should', 'start': 103.5, 'end': 104.0}, {'word': 'choose', 'start': 105.02, 'end': 105.8}, {'word': 'where', 'start': 105.8, 'end': 106.06}, {'word': 'to', 'start': 106.06, 'end': 106.22}, {'word': 'section', 'start': 106.22, 'end': 106.62}, {'word': 'off', 'start': 106.62, 'end': 106.96}, {'word': 'each', 'start': 106.96, 'end': 107.28}, {'word': 'gif', 'start': 107.28, 'end': 107.54}, {'word': 'It', 'start': 107.68, 'end': 107.76}, {'word': 'should', 'start': 107.76, 'end': 107.9}, {'word': 'be', 'start': 107.9, 'end': 108.08}, {'word': 'pretty', 'start': 108.08, 'end': 108.28}, {'word': 'obvious', 'start': 108.28, 'end': 108.6}, {'word': \"You'll\", 'start': 109.86, 'end': 110.64}, {'word': 'potentially', 'start': 110.64, 'end': 111.34}, {'word': 'need', 'start': 111.34, 'end': 111.96}, {'word': 'to', 'start': 111.96, 'end': 112.35}, {'word': 'first', 'start': 112.35, 'end': 112.75}, {'word': 'run', 'start': 112.75, 'end': 113.05}, {'word': 'this', 'start': 113.05, 'end': 113.23}, {'word': 'through', 'start': 113.23, 'end': 113.67}, {'word': 'Whisper', 'start': 113.67, 'end': 114.21}, {'word': 'transcription', 'start': 114.21, 'end': 114.87}, {'word': 'service', 'start': 114.87, 'end': 115.77}, {'word': 'Then', 'start': 117.11, 'end': 117.71}, {'word': 'you', 'start': 117.71, 'end': 118.79}, {'word': 'would', 'start': 118.79, 'end': 119.41}, {'word': 'section', 'start': 119.41, 'end': 123.27}, {'word': 'off', 'start': 123.27, 'end': 123.57}, {'word': 'each', 'start': 123.57, 'end': 123.81}, {'word': 'part', 'start': 123.81, 'end': 124.25}, {'word': 'of', 'start': 124.25, 'end': 124.55}, {'word': 'the', 'start': 125.33, 'end': 125.55}, {'word': 'transcript', 'start': 125.55, 'end': 126.13}, {'word': 'I', 'start': 126.13, 'end': 126.43}, {'word': 'think', 'start': 126.43, 'end': 126.81}, {'word': 'in', 'start': 126.81, 'end': 127.95}, {'word': 'order', 'start': 127.95, 'end': 128.11}, {'word': 'to', 'start': 128.11, 'end': 128.25}, {'word': 'make', 'start': 128.25, 'end': 128.37}, {'word': 'the', 'start': 128.37, 'end': 128.57}, {'word': 'cuts', 'start': 128.57, 'end': 128.81}, {'word': 'and', 'start': 128.81, 'end': 129.01}, {'word': 'maybe', 'start': 129.01, 'end': 129.19}, {'word': 'use', 'start': 129.19, 'end': 129.55}, {'word': 'FFmpeg', 'start': 129.55, 'end': 130.85}, {'word': 'I', 'start': 131.67, 'end': 131.85}, {'word': \"don't\", 'start': 131.85, 'end': 131.95}, {'word': 'know', 'start': 131.95, 'end': 132.11}, {'word': 'I', 'start': 132.23, 'end': 132.33}, {'word': \"don't\", 'start': 132.33, 'end': 132.49}, {'word': 'develop', 'start': 132.49, 'end': 132.83}, {'word': \"I'm\", 'start': 133.21, 'end': 133.41}, {'word': 'just', 'start': 133.41, 'end': 133.65}, {'word': 'coming', 'start': 133.65, 'end': 134.29}, {'word': 'up', 'start': 134.29, 'end': 134.49}, {'word': 'with', 'start': 134.49, 'end': 134.63}, {'word': 'ideas', 'start': 134.63, 'end': 134.99}, {'word': 'off', 'start': 134.99, 'end': 135.23}, {'word': 'the', 'start': 135.23, 'end': 135.39}, {'word': 'fly', 'start': 135.39, 'end': 135.61}, {'word': 'but', 'start': 135.61, 'end': 135.97}, {'word': 'whoever', 'start': 135.97, 'end': 137.69}, {'word': 'finishes', 'start': 137.69, 'end': 138.51}, {'word': 'that', 'start': 138.51, 'end': 138.91}, {'word': 'you', 'start': 138.91, 'end': 139.07}, {'word': 'have', 'start': 139.07, 'end': 139.15}, {'word': 'a', 'start': 139.15, 'end': 139.23}, {'word': 'job', 'start': 139.23, 'end': 139.41}, {'word': 'with', 'start': 139.41, 'end': 139.57}, {'word': 'us', 'start': 139.57, 'end': 140.01}, {'word': \"There's\", 'start': 140.95, 'end': 141.35}, {'word': 'no', 'start': 141.35, 'end': 141.49}, {'word': 'interview', 'start': 141.49, 'end': 141.81}, {'word': 'We', 'start': 142.23, 'end': 142.49}, {'word': \"don't\", 'start': 142.49, 'end': 142.59}, {'word': 'look', 'start': 142.59, 'end': 142.73}, {'word': 'at', 'start': 142.73, 'end': 142.81}, {'word': 'your', 'start': 142.81, 'end': 142.91}, {'word': 'resume', 'start': 142.91, 'end': 143.19}, {'word': 'People', 'start': 144.27, 'end': 144.59}, {'word': 'go', 'start': 144.59, 'end': 144.91}, {'word': 'to', 'start': 144.91, 'end': 145.37}, {'word': 'college', 'start': 145.37, 'end': 145.59}, {'word': 'for', 'start': 145.59, 'end': 145.89}, {'word': 'four', 'start': 145.89, 'end': 146.07}, {'word': 'years', 'start': 146.07, 'end': 146.39}, {'word': 'and', 'start': 146.39, 'end': 146.85}, {'word': 'do', 'start': 146.85, 'end': 147.01}, {'word': 'tons', 'start': 147.01, 'end': 147.21}, {'word': 'of', 'start': 147.21, 'end': 147.39}, {'word': 'tests', 'start': 147.39, 'end': 147.69}, {'word': 'and', 'start': 147.69, 'end': 148.01}, {'word': 'all', 'start': 148.01, 'end': 148.15}, {'word': 'these', 'start': 148.15, 'end': 148.35}, {'word': 'things', 'start': 148.35, 'end': 148.75}, {'word': 'to', 'start': 148.75, 'end': 149.33}, {'word': 'get', 'start': 149.33, 'end': 149.43}, {'word': 'a', 'start': 149.43, 'end': 149.55}, {'word': 'piece', 'start': 149.55, 'end': 149.69}, {'word': 'of', 'start': 149.69, 'end': 149.85}, {'word': 'paper', 'start': 149.85, 'end': 150.05}, {'word': 'that', 'start': 150.05, 'end': 150.29}, {'word': 'gets', 'start': 150.29, 'end': 150.47}, {'word': 'you', 'start': 150.47, 'end': 150.61}, {'word': 'a', 'start': 150.61, 'end': 150.73}, {'word': 'job', 'start': 150.73, 'end': 150.93}, {'word': 'In', 'start': 151.09, 'end': 151.21}, {'word': 'this', 'start': 151.21, 'end': 151.39}, {'word': 'case', 'start': 151.39, 'end': 151.59}, {'word': 'you', 'start': 151.59, 'end': 151.77}, {'word': 'get', 'start': 151.77, 'end': 151.91}, {'word': 'a', 'start': 151.91, 'end': 152.01}, {'word': 'job', 'start': 152.01, 'end': 152.23}, {'word': 'just', 'start': 152.23, 'end': 152.43}, {'word': 'by', 'start': 152.43, 'end': 152.65}, {'word': 'doing', 'start': 152.65, 'end': 152.95}, {'word': 'this', 'start': 152.95, 'end': 153.75}, {'word': 'one', 'start': 153.75, 'end': 154.03}, {'word': 'assignment', 'start': 154.03, 'end': 154.61}, {'word': 'And', 'start': 156.17, 'end': 156.27}, {'word': 'then', 'start': 156.27, 'end': 156.67}, {'word': 'after', 'start': 156.67, 'end': 157.71}, {'word': 'you', 'start': 157.71, 'end': 157.91}, {'word': 'complete', 'start': 157.91, 'end': 158.23}, {'word': 'it,', 'start': 158.23, 'end': 158.45}, {'word': 'you', 'start': 158.57, 'end': 158.57}, {'word': 'know,', 'start': 158.57, 'end': 158.67}, {'word': \"I've\", 'start': 158.71, 'end': 158.87}, {'word': 'got', 'start': 158.87, 'end': 158.97}, {'word': 'more', 'start': 158.97, 'end': 159.79}, {'word': 'ideas', 'start': 159.79, 'end': 160.19}, {'word': 'on', 'start': 160.19, 'end': 160.93}, {'word': 'the', 'start': 160.93, 'end': 161.71}, {'word': 'future', 'start': 161.71, 'end': 162.51}, {'word': 'features', 'start': 162.51, 'end': 164.03}, {'word': 'and', 'start': 164.03, 'end': 164.89}, {'word': 'I', 'start': 164.89, 'end': 165.05}, {'word': 'will', 'start': 165.05, 'end': 165.19}, {'word': 'continue', 'start': 165.19, 'end': 165.47}, {'word': 'to', 'start': 165.47, 'end': 165.71}, {'word': 'flush', 'start': 165.71, 'end': 165.91}, {'word': 'this', 'start': 165.91, 'end': 166.31}, {'word': 'out', 'start': 166.31, 'end': 167.01}, {'word': 'But', 'start': 168.09, 'end': 168.17}, {'word': 'starting', 'start': 168.17, 'end': 168.79}, {'word': 'off', 'start': 168.79, 'end': 169.07}, {'word': 'with', 'start': 169.07, 'end': 169.29}, {'word': 'just', 'start': 169.29, 'end': 169.49}, {'word': 'making,', 'start': 169.49, 'end': 169.85}, {'word': 'allowing', 'start': 170.71, 'end': 171.17}, {'word': 'up', 'start': 171.17, 'end': 171.41}, {'word': 'loading', 'start': 171.41, 'end': 171.97}, {'word': 'a', 'start': 171.97, 'end': 172.45}, {'word': 'video', 'start': 172.45, 'end': 172.67}, {'word': 'to', 'start': 172.67, 'end': 172.81}, {'word': 'get', 'start': 172.81, 'end': 172.91}, {'word': 'a', 'start': 172.91, 'end': 173.01}, {'word': 'bunch', 'start': 173.01, 'end': 173.11}, {'word': 'of', 'start': 173.11, 'end': 173.27}, {'word': 'gifs', 'start': 173.27, 'end': 176.19}, {'word': 'Thank', 'start': 177.93, 'end': 178.49}, {'word': 'you', 'start': 178.49, 'end': 178.67}]\n"
     ]
    }
   ],
   "source": [
    "print(words)"
   ]
  },
  {
   "cell_type": "code",
   "execution_count": 67,
   "metadata": {},
   "outputs": [],
   "source": [
    "sentence_matches = match_sentences_with_words(suitable_sentences, words)"
   ]
  },
  {
   "cell_type": "code",
   "execution_count": 68,
   "metadata": {},
   "outputs": [],
   "source": [
    "suitable_segments = []\n",
    "for sentence, match in sentence_matches.items():\n",
    "    if match != -1:\n",
    "        start_time = words[match]['start']\n",
    "        end_time = words[match + len(sentence.split()) - 1]['end']\n",
    "        suitable_segments.append({\"text\": sentence, \"start\": start_time, \"end\": end_time})\n"
   ]
  },
  {
   "cell_type": "code",
   "execution_count": 71,
   "metadata": {},
   "outputs": [
    {
     "name": "stdout",
     "output_type": "stream",
     "text": [
      "MoviePy - Building file output_gif_0.gif with imageio.\n"
     ]
    },
    {
     "name": "stderr",
     "output_type": "stream",
     "text": [
      "                                                            \r"
     ]
    },
    {
     "name": "stdout",
     "output_type": "stream",
     "text": [
      "Created GIF: output_gif_0.gif\n",
      "MoviePy - Building file output_gif_1.gif with imageio.\n"
     ]
    },
    {
     "name": "stderr",
     "output_type": "stream",
     "text": [
      "                                                            \r"
     ]
    },
    {
     "name": "stdout",
     "output_type": "stream",
     "text": [
      "Created GIF: output_gif_1.gif\n",
      "MoviePy - Building file output_gif_2.gif with imageio.\n"
     ]
    },
    {
     "name": "stderr",
     "output_type": "stream",
     "text": [
      "                                                            \r"
     ]
    },
    {
     "name": "stdout",
     "output_type": "stream",
     "text": [
      "Created GIF: output_gif_2.gif\n",
      "MoviePy - Building file output_gif_3.gif with imageio.\n"
     ]
    },
    {
     "name": "stderr",
     "output_type": "stream",
     "text": [
      "                                                            \r"
     ]
    },
    {
     "name": "stdout",
     "output_type": "stream",
     "text": [
      "Created GIF: output_gif_3.gif\n",
      "MoviePy - Building file output_gif_4.gif with imageio.\n"
     ]
    },
    {
     "name": "stderr",
     "output_type": "stream",
     "text": [
      "                                                          \r"
     ]
    },
    {
     "name": "stdout",
     "output_type": "stream",
     "text": [
      "Created GIF: output_gif_4.gif\n",
      "MoviePy - Building file output_gif_5.gif with imageio.\n"
     ]
    },
    {
     "name": "stderr",
     "output_type": "stream",
     "text": [
      "                                                          \r"
     ]
    },
    {
     "name": "stdout",
     "output_type": "stream",
     "text": [
      "Created GIF: output_gif_5.gif\n",
      "MoviePy - Building file output_gif_6.gif with imageio.\n"
     ]
    },
    {
     "name": "stderr",
     "output_type": "stream",
     "text": [
      "                                                            \r"
     ]
    },
    {
     "name": "stdout",
     "output_type": "stream",
     "text": [
      "Created GIF: output_gif_6.gif\n",
      "MoviePy - Building file output_gif_7.gif with imageio.\n"
     ]
    },
    {
     "name": "stderr",
     "output_type": "stream",
     "text": [
      "                                                          \r"
     ]
    },
    {
     "name": "stdout",
     "output_type": "stream",
     "text": [
      "Created GIF: output_gif_7.gif\n",
      "MoviePy - Building file output_gif_8.gif with imageio.\n"
     ]
    },
    {
     "name": "stderr",
     "output_type": "stream",
     "text": [
      "                                                          \r"
     ]
    },
    {
     "name": "stdout",
     "output_type": "stream",
     "text": [
      "Created GIF: output_gif_8.gif\n",
      "MoviePy - Building file output_gif_9.gif with imageio.\n"
     ]
    },
    {
     "name": "stderr",
     "output_type": "stream",
     "text": [
      "                                                            \r"
     ]
    },
    {
     "name": "stdout",
     "output_type": "stream",
     "text": [
      "Created GIF: output_gif_9.gif\n",
      "MoviePy - Building file output_gif_10.gif with imageio.\n"
     ]
    },
    {
     "name": "stderr",
     "output_type": "stream",
     "text": [
      "                                                            \r"
     ]
    },
    {
     "name": "stdout",
     "output_type": "stream",
     "text": [
      "Created GIF: output_gif_10.gif\n",
      "MoviePy - Building file output_gif_11.gif with imageio.\n"
     ]
    },
    {
     "name": "stderr",
     "output_type": "stream",
     "text": [
      "                                                          \r"
     ]
    },
    {
     "name": "stdout",
     "output_type": "stream",
     "text": [
      "Created GIF: output_gif_11.gif\n",
      "MoviePy - Building file output_gif_12.gif with imageio.\n"
     ]
    },
    {
     "name": "stderr",
     "output_type": "stream",
     "text": [
      "                                                          \r"
     ]
    },
    {
     "name": "stdout",
     "output_type": "stream",
     "text": [
      "Created GIF: output_gif_12.gif\n",
      "MoviePy - Building file output_gif_13.gif with imageio.\n"
     ]
    },
    {
     "name": "stderr",
     "output_type": "stream",
     "text": [
      "                                                          \r"
     ]
    },
    {
     "name": "stdout",
     "output_type": "stream",
     "text": [
      "Created GIF: output_gif_13.gif\n",
      "MoviePy - Building file output_gif_14.gif with imageio.\n"
     ]
    },
    {
     "name": "stderr",
     "output_type": "stream",
     "text": [
      "                                                           \r"
     ]
    },
    {
     "name": "stdout",
     "output_type": "stream",
     "text": [
      "Created GIF: output_gif_14.gif\n",
      "MoviePy - Building file output_gif_15.gif with imageio.\n"
     ]
    },
    {
     "name": "stderr",
     "output_type": "stream",
     "text": [
      "                                                          \r"
     ]
    },
    {
     "name": "stdout",
     "output_type": "stream",
     "text": [
      "Created GIF: output_gif_15.gif\n"
     ]
    }
   ],
   "source": [
    "# Step 3: Create GIFs with captions\n",
    "for i, segment in enumerate(suitable_segments):\n",
    "    start_time = segment[\"start\"]\n",
    "    end_time = segment[\"end\"]\n",
    "    text = segment[\"text\"]\n",
    "    \n",
    "    # Clean up text (remove newlines, extra spaces)\n",
    "    text = re.sub(r'\\s+', ' ', text).strip()\n",
    "    \n",
    "    output_path = f\"output_gif_{i}.gif\"\n",
    "    create_gif_with_caption(video_path, start_time, end_time, text, output_path)\n",
    "    print(f\"Created GIF: {output_path}\")"
   ]
  },
  {
   "cell_type": "code",
   "execution_count": null,
   "metadata": {},
   "outputs": [],
   "source": []
  }
 ],
 "metadata": {
  "kernelspec": {
   "display_name": "Python 3",
   "language": "python",
   "name": "python3"
  },
  "language_info": {
   "codemirror_mode": {
    "name": "ipython",
    "version": 3
   },
   "file_extension": ".py",
   "mimetype": "text/x-python",
   "name": "python",
   "nbconvert_exporter": "python",
   "pygments_lexer": "ipython3",
   "version": "3.10.12"
  }
 },
 "nbformat": 4,
 "nbformat_minor": 2
}
